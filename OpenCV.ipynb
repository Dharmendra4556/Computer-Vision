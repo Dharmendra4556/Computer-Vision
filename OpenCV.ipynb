{
 "cells": [
  {
   "cell_type": "code",
   "execution_count": 1,
   "id": "fe9995c0",
   "metadata": {},
   "outputs": [],
   "source": [
    "#pip install opencv-python"
   ]
  },
  {
   "cell_type": "code",
   "execution_count": 2,
   "id": "0aa155f9",
   "metadata": {},
   "outputs": [],
   "source": [
    "import cv2\n",
    "import numpy as np"
   ]
  },
  {
   "cell_type": "markdown",
   "id": "0b423c5d",
   "metadata": {},
   "source": [
    "## Load/Read image"
   ]
  },
  {
   "cell_type": "code",
   "execution_count": 3,
   "id": "db0045af",
   "metadata": {},
   "outputs": [],
   "source": [
    "#Load an image 'imread' specifying the path of the image\n",
    "img=cv2.imread('Modi.jpg',1)"
   ]
  },
  {
   "cell_type": "markdown",
   "id": "8fb1de3a",
   "metadata": {},
   "source": [
    "**Let's Take a closer look at how images are stored**"
   ]
  },
  {
   "cell_type": "code",
   "execution_count": 4,
   "id": "3ee14d67",
   "metadata": {},
   "outputs": [
    {
     "name": "stdout",
     "output_type": "stream",
     "text": [
      "[[[255 255 255]\n",
      "  [255 255 255]\n",
      "  [255 255 255]\n",
      "  ...\n",
      "  [255 255 255]\n",
      "  [255 255 255]\n",
      "  [255 255 255]]\n",
      "\n",
      " [[255 255 255]\n",
      "  [255 255 255]\n",
      "  [255 255 255]\n",
      "  ...\n",
      "  [255 255 255]\n",
      "  [255 255 255]\n",
      "  [255 255 255]]\n",
      "\n",
      " [[255 255 255]\n",
      "  [255 255 255]\n",
      "  [255 255 255]\n",
      "  ...\n",
      "  [255 255 255]\n",
      "  [255 255 255]\n",
      "  [255 255 255]]\n",
      "\n",
      " ...\n",
      "\n",
      " [[255 255 255]\n",
      "  [255 255 255]\n",
      "  [255 255 255]\n",
      "  ...\n",
      "  [255 255 255]\n",
      "  [255 255 255]\n",
      "  [255 255 255]]\n",
      "\n",
      " [[255 255 255]\n",
      "  [255 255 255]\n",
      "  [255 255 255]\n",
      "  ...\n",
      "  [255 255 255]\n",
      "  [255 255 255]\n",
      "  [255 255 255]]\n",
      "\n",
      " [[255 255 255]\n",
      "  [255 255 255]\n",
      "  [255 255 255]\n",
      "  ...\n",
      "  [255 255 255]\n",
      "  [255 255 255]\n",
      "  [255 255 255]]]\n"
     ]
    }
   ],
   "source": [
    "print(img)"
   ]
  },
  {
   "cell_type": "markdown",
   "id": "b2fa0520",
   "metadata": {},
   "source": [
    "**Shape gives the dimensions of the image array**"
   ]
  },
  {
   "cell_type": "code",
   "execution_count": 5,
   "id": "176bc7f0",
   "metadata": {},
   "outputs": [
    {
     "data": {
      "text/plain": [
       "(1358, 1500, 3)"
      ]
     },
     "execution_count": 5,
     "metadata": {},
     "output_type": "execute_result"
    }
   ],
   "source": [
    "img.shape\n",
    "#The 3D dimensions are 1358 pixels in height * 1500 pixels wude\n",
    "#3 means that are 3 components (RGB) that make us this image"
   ]
  },
  {
   "cell_type": "markdown",
   "id": "0be300bd",
   "metadata": {},
   "source": [
    "## Display the image"
   ]
  },
  {
   "cell_type": "code",
   "execution_count": 6,
   "id": "443ca69b",
   "metadata": {},
   "outputs": [],
   "source": [
    "#to display our image variable , we use 'imshow'\n",
    "#the first parameter will be title shown on image window\n",
    "#the second parameter is the image variable\n",
    "#img=cv2.imread('image_examples/Modi.jpg',0)\n",
    "cv2.imshow('PM',img)\n",
    "\n",
    "# 'waitKey' allows us to input information when a image window is open\n",
    "# By leaving it blank it just waits for anykey to be pressed before continuing.\n",
    "# how long you keep the window open (time is in milliseconds here)\n",
    "cv2.waitKey(3000)\n",
    "\n",
    "# this closes all open windows.\n",
    "# Failure to place this will cause your program hang\n",
    "cv2.destroyAllWindows()"
   ]
  },
  {
   "cell_type": "markdown",
   "id": "bbe95674",
   "metadata": {},
   "source": [
    "## Save Image"
   ]
  },
  {
   "cell_type": "code",
   "execution_count": 7,
   "id": "46e55dab",
   "metadata": {},
   "outputs": [
    {
     "data": {
      "text/plain": [
       "True"
      ]
     },
     "execution_count": 7,
     "metadata": {},
     "output_type": "execute_result"
    }
   ],
   "source": [
    "cv2.imwrite('pm_bw.jpg',img)"
   ]
  },
  {
   "cell_type": "markdown",
   "id": "dd9d5708",
   "metadata": {},
   "source": [
    "## Resize Image"
   ]
  },
  {
   "cell_type": "code",
   "execution_count": 8,
   "id": "5726b0c1",
   "metadata": {},
   "outputs": [],
   "source": [
    "img=cv2.imread('Modi.jpg',1)\n",
    "resized_img=cv2.resize(img,(500,500))\n",
    "gray=cv2.cvtColor(resized_img,cv2.COLOR_BGR2GRAY)\n",
    "cv2.imshow('pm',gray)\n",
    "cv2.waitKey(2000)\n",
    "cv2.destroyAllWindows()"
   ]
  },
  {
   "cell_type": "code",
   "execution_count": 9,
   "id": "847824f1",
   "metadata": {},
   "outputs": [
    {
     "data": {
      "text/plain": [
       "679.0"
      ]
     },
     "execution_count": 9,
     "metadata": {},
     "output_type": "execute_result"
    }
   ],
   "source": [
    "img.shape[0]*.5"
   ]
  },
  {
   "cell_type": "code",
   "execution_count": 10,
   "id": "f12f0098",
   "metadata": {},
   "outputs": [
    {
     "data": {
      "text/plain": [
       "750.0"
      ]
     },
     "execution_count": 10,
     "metadata": {},
     "output_type": "execute_result"
    }
   ],
   "source": [
    "img.shape[1]*0.5"
   ]
  },
  {
   "cell_type": "code",
   "execution_count": 11,
   "id": "cd49a273",
   "metadata": {},
   "outputs": [
    {
     "data": {
      "text/plain": [
       "'4.9.0'"
      ]
     },
     "execution_count": 11,
     "metadata": {},
     "output_type": "execute_result"
    }
   ],
   "source": [
    "cv2.__version__"
   ]
  },
  {
   "cell_type": "code",
   "execution_count": 12,
   "id": "f151207a",
   "metadata": {},
   "outputs": [],
   "source": [
    "import warnings\n",
    "warnings.simplefilter('ignore')\n"
   ]
  },
  {
   "cell_type": "markdown",
   "id": "8b055d14",
   "metadata": {},
   "source": [
    "## Face Detection using HAAR Cascade Classifiers"
   ]
  },
  {
   "cell_type": "code",
   "execution_count": 13,
   "id": "24cee47b",
   "metadata": {},
   "outputs": [],
   "source": [
    "# we point OpenCV's CascadeClassifier function to where our classifier (XML file format)is stored\n",
    "face_classifier=cv2.CascadeClassifier('haarcascade_frontalface_default.xml')\n",
    "\n",
    "# Load our image then convert it to grayscale\n",
    "image=cv2.imread('Modi,jpg')\n",
    "image=cv2.resize(img,(500,500))\n",
    "gray=cv2.cvtColor(image,cv2.COLOR_BGR2GRAY)\n",
    "\n",
    "# Tuning Cascade Classifier - detectMulituScale(input image,**scalar factor**,**Min Neighbors**)\n",
    "face=face_classifier.detectMultiScale(gray,1.05,5)\n",
    "# scale factor -specifies how much we reduce the image size each time we scale.\n",
    "# E.g. in face detection we typically use 1.3. This means we reduce the image by 30% each time it's size.\n",
    "# smaller values, like 1.05 will take longer to compute , but will increase the rate of detection.\n",
    "## Min Neighbors**\n",
    "# specifies the number of neighbors each potential window should have in order to consider it a positive detection.\n",
    "# Typically set between 3-6.\n",
    "# It acts as sensitivity setting, low values will sometimes detect multiples faces over a single face.\n",
    "# High values will ensure less false positives , but you may miss some faces."
   ]
  },
  {
   "cell_type": "code",
   "execution_count": 14,
   "id": "3af7b27e",
   "metadata": {},
   "outputs": [
    {
     "name": "stdout",
     "output_type": "stream",
     "text": [
      "[[205  79 217 217]]\n"
     ]
    }
   ],
   "source": [
    "print(face)"
   ]
  },
  {
   "cell_type": "code",
   "execution_count": 15,
   "id": "7fa133e7",
   "metadata": {},
   "outputs": [],
   "source": [
    "# we point OpenCV's CascadeClassifier function to where our classifier (XML file format)is stored\n",
    "face_classifier=cv2.CascadeClassifier('haarcascade_frontalface_default.xml')\n",
    "# Load our image then convert it to grayscale \n",
    "image=cv2.imread('Modi.jpg',1)\n",
    "image=cv2.resize(image,(679,750))\n",
    "gray=cv2.cvtColor(image,cv2.COLOR_BGR2GRAY)\n",
    "# Tuning Cascade Classifier - detectMulituScale(input image,**scalar factor**,**Min Neighbors**)\n",
    "faces=face_classifier.detectMultiScale(gray,1.05,5)\n",
    "# scale factor -specifies how much we reduce the image size each time we scale.\n",
    "# E.g. in face detection we typically use 1.3. This means we reduce the image by 30% each time it's size.\n",
    "# smaller values, like 1.05 will take longer to compute , but will increase the rate of detection.\n",
    "## Min Neighbors**\n",
    "# specifies the number of neighbors each potential window should have in order to consider it a positive detection.\n",
    "# Typically set between 3-6.\n",
    "# It acts as sensitivity setting, low values will sometimes detect multiples faces over a single face.\n",
    "# High values will ensure less false positives , but you may miss some faces.\n",
    "\n",
    "# when no faces detected , face_classifier returns an empty tuple.\n",
    "if faces is ():\n",
    "    print('no face found.')\n",
    "# we iterate through our faces array and draw a rectangle\n",
    "# over each face in faces\n",
    "for (x,y,h,w) in faces:\n",
    "    cv2.rectangle(image,(x,y),(x+h,y+w),(165,125,255),5)\n",
    "cv2.imshow('pm',image)\n",
    "cv2.waitKey()\n",
    "cv2.destroyAllWindows()"
   ]
  },
  {
   "cell_type": "markdown",
   "id": "f7d0d00e",
   "metadata": {},
   "source": [
    "## Face & Eye Detection using HAAR Cascade Classifiers in image"
   ]
  },
  {
   "cell_type": "code",
   "execution_count": 16,
   "id": "6afbd45b",
   "metadata": {},
   "outputs": [],
   "source": [
    "face_classifier=cv2.CascadeClassifier('haarcascade_frontalface_default.xml')\n",
    "eye_classifier=cv2.CascadeClassifier('haarcascade_eye.xml')\n",
    "\n",
    "img=cv2.imread('Modi.jpg',1)\n",
    "resized_image=cv2.resize(img,(500,500))\n",
    "gray=cv2.cvtColor(resized_image,cv2.COLOR_BGR2GRAY)\n",
    "\n",
    "faces=face_classifier.detectMultiScale(gray,1.3,5)\n",
    "# when no faces detected , face_classifier returns an empty tuple.\n",
    "if faces is ():\n",
    "    print('no face found.')\n",
    "for (x,y,w,h) in faces:\n",
    "    cv2.rectangle(resized_image,(x,y),(x+w,y+h),(255,0,0),5)\n",
    "    roi_gray=gray[y:y+h,x:x+w]\n",
    "    roi_color=resized_image[y:y+h,x:x+w]\n",
    "    eyes=eye_classifier.detectMultiScale(roi_gray)\n",
    "    for (ex,ey,ew,eh) in eyes:\n",
    "        cv2.rectangle(roi_color,(ex,ey),(ex+ew,ey+eh),(0,255,0),2)\n",
    "cv2.imshow('img',resized_image)\n",
    "cv2.waitKey()\n",
    "cv2.destroyAllWindows()"
   ]
  },
  {
   "cell_type": "markdown",
   "id": "5becc90f",
   "metadata": {},
   "source": [
    "## Capture a Video"
   ]
  },
  {
   "cell_type": "code",
   "execution_count": 17,
   "id": "34b94fb9",
   "metadata": {},
   "outputs": [],
   "source": [
    "# Doing some face Recognization with the webcam\n",
    "import cv2\n",
    "video=cv2.VideoCapture(0)\n",
    "while True:\n",
    "    check,frame=video.read()\n",
    "    gray=cv2.cvtColor(frame,cv2.COLOR_BGR2GRAY)\n",
    "    cv2.imshow('Video',gray)\n",
    "    if cv2.waitKey(1) == ord('q'):\n",
    "        break\n",
    "video.release()\n",
    "cv2.destroyAllWindows()"
   ]
  },
  {
   "cell_type": "markdown",
   "id": "9aebaf31",
   "metadata": {},
   "source": [
    "## Face & Eye Detection using HAAR Cascade Classifiers "
   ]
  },
  {
   "cell_type": "code",
   "execution_count": 18,
   "id": "2115b9aa",
   "metadata": {},
   "outputs": [],
   "source": [
    "# Defining a function that will do the detections\n",
    "face_classifier=cv2.CascadeClassifier('haarcascade_frontalface_default.xml')\n",
    "eye_classifier=cv2.CascadeClassifier('haarcascade_eye.xml')\n",
    "def detect(gray,frame):\n",
    "    faces=face_classifier.detectMultiScale(gray,1.3,5)\n",
    "    for (x,y,w,h) in faces:\n",
    "        cv2.rectangle(frame,(x,y),(x+w,y+h),(255,0,0),5)\n",
    "        roi_gray=gray[y:y+h,x:x+w]\n",
    "        roi_color=frame[y:y+h,x:x+w]\n",
    "        eyes=eye_classifier.detectMultiScale(roi_gray,1.1,3)\n",
    "        for (ex,ey,ew,eh) in eyes:\n",
    "            cv2.rectangle(roi_color,(ex,ey),(ex+ew,ey+eh),(0,255,0),2)\n",
    "    return frame\n",
    "# Doing some face recognization with the webcam\n",
    "video=cv2.VideoCapture(0)\n",
    "while True:\n",
    "    check,frame=video.read()\n",
    "    gray=cv2.cvtColor(frame,cv2.COLOR_BGR2GRAY)\n",
    "    canvas=detect(gray,frame)\n",
    "    cv2.imshow('Video',canvas)\n",
    "    if cv2.waitKey(1) == ord('q'):\n",
    "        break\n",
    "video.release()\n",
    "cv2.destroyAllWindows()"
   ]
  },
  {
   "cell_type": "markdown",
   "id": "9dde4b55",
   "metadata": {},
   "source": [
    "## Pedistrian Detection"
   ]
  },
  {
   "cell_type": "code",
   "execution_count": 19,
   "id": "1cea1d0f",
   "metadata": {},
   "outputs": [],
   "source": [
    "import cv2\n",
    "# Create our body classifier\n",
    "body_classifier=cv2.CascadeClassifier('haarcascade_fullbody.xml')\n",
    "#Initialize video capture for video file\n",
    "cap=cv2.VideoCapture('walking.avi')\n",
    "# Loop once video is successfully loaded\n",
    "while cap.isOpened():\n",
    "    # Read first frame\n",
    "    check,frame=cap.read()\n",
    "    gray=cv2.cvtColor(frame,cv2.COLOR_BGR2GRAY)\n",
    "    # Pass frame to our body classifier\n",
    "    body=body_classifier.detectMultiScale(gray,1.2,3)\n",
    "    # Extract bounding boxes for any bodies identified\n",
    "    for x,y,w,h in body:\n",
    "        cv2.rectangle(gray,(x,y),(x+w,y+h),(0,255,255),2)\n",
    "        cv2.imshow('Pedestrains',gray)\n",
    "    if cv2.waitKey(1)==ord('q'):\n",
    "        break\n",
    "cap.release()\n",
    "cv2.destroyAllWindows()"
   ]
  },
  {
   "cell_type": "code",
   "execution_count": 20,
   "id": "d906f818",
   "metadata": {},
   "outputs": [],
   "source": [
    "import time\n",
    "# Create our body classifier\n",
    "car_classifier=cv2.CascadeClassifier('haarcascade_car.xml')\n",
    "#Initialize video capture for video file\n",
    "cap=cv2.VideoCapture('cars.avi')\n",
    "# Loop once video is successfully loaded\n",
    "while cap.isOpened():\n",
    "    time.sleep(0.05)\n",
    "    # Read first frame\n",
    "    check,frame=cap.read()\n",
    "    gray=cv2.cvtColor(frame,cv2.COLOR_BGR2GRAY)\n",
    "    # Pass frame to our body classifier\n",
    "    cars=car_classifier.detectMultiScale(gray,1.4,2)\n",
    "    # Extract bounding boxes for any bodies identified\n",
    "    for x,y,w,h in cars:\n",
    "        cv2.rectangle(gray,(x,y),(x+w,y+h),(0,255,255),2)\n",
    "        cv2.imshow('Pedestrains',gray)\n",
    "    if cv2.waitKey(1)==ord('q'):\n",
    "        break\n",
    "cap.release()\n",
    "cv2.destroyAllWindows()\n",
    "    "
   ]
  },
  {
   "cell_type": "code",
   "execution_count": null,
   "id": "85e917af",
   "metadata": {},
   "outputs": [],
   "source": []
  },
  {
   "cell_type": "code",
   "execution_count": null,
   "id": "e74233b5",
   "metadata": {},
   "outputs": [],
   "source": []
  },
  {
   "cell_type": "code",
   "execution_count": null,
   "id": "86380caa",
   "metadata": {},
   "outputs": [],
   "source": []
  }
 ],
 "metadata": {
  "kernelspec": {
   "display_name": "Python 3 (ipykernel)",
   "language": "python",
   "name": "python3"
  },
  "language_info": {
   "codemirror_mode": {
    "name": "ipython",
    "version": 3
   },
   "file_extension": ".py",
   "mimetype": "text/x-python",
   "name": "python",
   "nbconvert_exporter": "python",
   "pygments_lexer": "ipython3",
   "version": "3.11.4"
  }
 },
 "nbformat": 4,
 "nbformat_minor": 5
}
